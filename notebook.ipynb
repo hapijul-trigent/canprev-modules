{
 "cells": [
  {
   "cell_type": "code",
   "execution_count": 1,
   "metadata": {},
   "outputs": [],
   "source": [
    "from tools import load_yolo_model\n",
    "import matplotlib.pyplot as plt\n",
    "import supervision as sv"
   ]
  },
  {
   "cell_type": "code",
   "execution_count": 2,
   "metadata": {},
   "outputs": [
    {
     "name": "stdout",
     "output_type": "stream",
     "text": [
      "\n",
      "image 1/1 /workspaces/canprev-modules/IMG_0073.JPG: 544x416 1 botle_with_neckband, 1 label, 1 curved_shoulder, 1205.2ms\n",
      "Speed: 62.4ms preprocess, 1205.2ms inference, 202.0ms postprocess per image at shape (1, 3, 544, 416)\n"
     ]
    }
   ],
   "source": []
  },
  {
   "cell_type": "code",
   "execution_count": 4,
   "metadata": {},
   "outputs": [],
   "source": [
    "detections = sv.Detections.from_ultralytics(result[0])"
   ]
  },
  {
   "cell_type": "code",
   "execution_count": 14,
   "metadata": {},
   "outputs": [
    {
     "data": {
      "text/plain": [
       "Detections(xyxy=array([[     785.34,        1269,      1368.1,      1916.5],\n",
       "       [     805.53,      855.43,      1314.5,      1131.5]], dtype=float32), mask=None, confidence=array([    0.96136,     0.84135], dtype=float32), class_id=array([1, 0]), tracker_id=None, data={'class_name': array(['label', 'botle_with_neckband'], dtype='<U19')})"
      ]
     },
     "execution_count": 14,
     "metadata": {},
     "output_type": "execute_result"
    }
   ],
   "source": [
    "detections[detections.confidence > .80]"
   ]
  },
  {
   "cell_type": "code",
   "execution_count": 11,
   "metadata": {},
   "outputs": [
    {
     "data": {
      "text/plain": [
       "array(['label', 'botle_with_neckband', 'curved_shoulder'], dtype='<U19')"
      ]
     },
     "execution_count": 11,
     "metadata": {},
     "output_type": "execute_result"
    }
   ],
   "source": [
    "detections.data['class_name']"
   ]
  },
  {
   "cell_type": "code",
   "execution_count": 12,
   "metadata": {},
   "outputs": [],
   "source": [
    "from collections import defaultdict\n",
    "\n",
    "checklist = defaultdict(list)\n",
    "\n",
    "def update_dict(key, value):\n",
    "    checklist[key].append(value)"
   ]
  },
  {
   "cell_type": "code",
   "execution_count": 30,
   "metadata": {},
   "outputs": [],
   "source": [
    "defaults = {\n",
    "    'label': False, \n",
    "    'botle_with_neckband': False, \n",
    "    'curved_shoulder': False\n",
    "}"
   ]
  },
  {
   "cell_type": "code",
   "execution_count": 35,
   "metadata": {},
   "outputs": [
    {
     "data": {
      "text/plain": [
       "defaultdict(list,\n",
       "            {'label': [False, False, False, False],\n",
       "             'botle_with_neckband': [False, False, False, False],\n",
       "             'curved_shoulder': [False, False, False, False]})"
      ]
     },
     "execution_count": 35,
     "metadata": {},
     "output_type": "execute_result"
    }
   ],
   "source": [
    "for key, value in defaults.items():\n",
    "    update_dict(key, value)\n",
    "checklist"
   ]
  },
  {
   "cell_type": "code",
   "execution_count": 18,
   "metadata": {},
   "outputs": [],
   "source": [
    "from collections import defaultdict\n",
    "\n",
    "CHECKLIST = defaultdict(list)\n",
    "THINGS_TO_CHECK = {'label', 'botle_with_neckband', 'curved_shoulder'}\n",
    "\n",
    "def update_CHECKLIST(key, value):\n",
    "    CHECKLIST[key].append(value)\n",
    "\n",
    "\n",
    "def detect_side_view(image, view_name):\n",
    "    global model\n",
    "    # image_array = Image.open(image)\n",
    "\n",
    "    result = model(source=image)[0]\n",
    "    detections = sv.Detections.from_ultralytics(result)\n",
    "    detections[detections.confidence > .60]\n",
    "    for thing in THINGS_TO_CHECK:\n",
    "        if thing in detections.data['class_name']:\n",
    "            update_CHECKLIST(thing, True)\n",
    "\n",
    "    return True"
   ]
  },
  {
   "cell_type": "code",
   "execution_count": 19,
   "metadata": {},
   "outputs": [
    {
     "name": "stdout",
     "output_type": "stream",
     "text": [
      "\n",
      "image 1/1 /workspaces/canprev-modules/IMG_0072.JPG: 544x416 1 botle_with_neckband, 1 label, 1 curved_shoulder, 189.5ms\n",
      "Speed: 1.7ms preprocess, 189.5ms inference, 0.6ms postprocess per image at shape (1, 3, 544, 416)\n",
      "\n",
      "image 1/1 /workspaces/canprev-modules/IMG_0073.JPG: 544x416 1 botle_with_neckband, 1 label, 1 curved_shoulder, 218.2ms\n",
      "Speed: 2.5ms preprocess, 218.2ms inference, 0.6ms postprocess per image at shape (1, 3, 544, 416)\n"
     ]
    }
   ],
   "source": [
    "for side in ['IMG_0072.JPG', 'IMG_0073.JPG']:\n",
    "    detect_side_view(image=side, view_name='side')"
   ]
  },
  {
   "cell_type": "code",
   "execution_count": 20,
   "metadata": {},
   "outputs": [
    {
     "data": {
      "text/plain": [
       "defaultdict(list,\n",
       "            {'curved_shoulder': [True, True],\n",
       "             'botle_with_neckband': [True, True],\n",
       "             'label': [True, True]})"
      ]
     },
     "execution_count": 20,
     "metadata": {},
     "output_type": "execute_result"
    }
   ],
   "source": [
    "CHECKLIST"
   ]
  },
  {
   "cell_type": "code",
   "execution_count": 23,
   "metadata": {},
   "outputs": [
    {
     "ename": "AttributeError",
     "evalue": "'numpy.ndarray' object has no attribute 'upper'",
     "output_type": "error",
     "traceback": [
      "\u001b[0;31m---------------------------------------------------------------------------\u001b[0m",
      "\u001b[0;31mAttributeError\u001b[0m                            Traceback (most recent call last)",
      "Cell \u001b[0;32mIn[23], line 1\u001b[0m\n\u001b[0;32m----> 1\u001b[0m \u001b[43mdetections\u001b[49m\u001b[38;5;241;43m.\u001b[39;49m\u001b[43mdata\u001b[49m\u001b[43m[\u001b[49m\u001b[38;5;124;43m'\u001b[39;49m\u001b[38;5;124;43mclass_name\u001b[39;49m\u001b[38;5;124;43m'\u001b[39;49m\u001b[43m]\u001b[49m\u001b[38;5;241;43m.\u001b[39;49m\u001b[43mupper\u001b[49m()\n",
      "\u001b[0;31mAttributeError\u001b[0m: 'numpy.ndarray' object has no attribute 'upper'"
     ]
    }
   ],
   "source": [
    ", , "
   ]
  },
  {
   "cell_type": "code",
   "execution_count": null,
   "metadata": {},
   "outputs": [],
   "source": [
    "import streamlit as st\n",
    "import numpy as np\n",
    "from PIL import Image, ExifTags\n",
    "from tools import load_combined_model, detect_object\n",
    "\n",
    "# Load model\n",
    "seal_model = load_combined_model(model_path='/home/prathijna_k/Documents/AI_canprev/update_class_label/finished_product.pt')\n",
    "\n",
    "def correct_image_orientation(image):\n",
    "    \"\"\"Correct the orientation of an image based on its EXIF data.\"\"\"\n",
    "    try:\n",
    "        for orientation in ExifTags.TAGS.keys():\n",
    "            if ExifTags.TAGS[orientation] == 'Orientation':\n",
    "                break\n",
    "\n",
    "        exif = image._getexif()\n",
    "        if exif is not None:\n",
    "            orientation = exif.get(orientation)\n",
    "            if orientation == 3:\n",
    "                image = image.rotate(180, expand=True)\n",
    "            elif orientation == 6:\n",
    "                image = image.rotate(270, expand=True)\n",
    "            elif orientation == 8:\n",
    "                image = image.rotate(90, expand=True)\n",
    "    except (AttributeError, KeyError, IndexError):\n",
    "        # Cases where the image doesn't have EXIF data\n",
    "        pass\n",
    "    return image\n",
    "\n",
    "def main():\n",
    "    st.title('Canprev AI')\n",
    "\n",
    "    uploaded_file = st.file_uploader(\"Choose an image...\", type=['jpg', 'jpeg', 'png'], key='Seal')\n",
    "\n",
    "    if uploaded_file is not None:\n",
    "        # Open and correct image orientation\n",
    "        image = Image.open(uploaded_file)\n",
    "        image = correct_image_orientation(image)\n",
    "        image_np = np.array(image)\n",
    "        \n",
    "        # Create two columns\n",
    "        col1, col2 = st.columns(2)\n",
    "\n",
    "        with col1:\n",
    "            st.header(\"Uploaded Image\")\n",
    "            st.image(image_np, caption='Uploaded Image', use_column_width=True)\n",
    "        \n",
    "        with col2:\n",
    "            result_image = detect_object(image_np, model=seal_model)\n",
    "            result_image_pil = Image.fromarray(result_image)\n",
    "\n",
    "            st.header(\"Analysis\")\n",
    "            st.image(result_image_pil, caption='Analysis Result', use_column_width=True)\n",
    "\n",
    "if _name_ == \"__main__\":\n",
    "    main()\n"
   ]
  }
 ],
 "metadata": {
  "kernelspec": {
   "display_name": "Python 3",
   "language": "python",
   "name": "python3"
  },
  "language_info": {
   "codemirror_mode": {
    "name": "ipython",
    "version": 3
   },
   "file_extension": ".py",
   "mimetype": "text/x-python",
   "name": "python",
   "nbconvert_exporter": "python",
   "pygments_lexer": "ipython3",
   "version": "3.12.1"
  }
 },
 "nbformat": 4,
 "nbformat_minor": 2
}
